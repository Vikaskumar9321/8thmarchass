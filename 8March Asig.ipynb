{
 "cells": [
  {
   "cell_type": "markdown",
   "id": "5a6b96db-2369-4ac8-962f-512f2a67665e",
   "metadata": {},
   "source": [
    "#ANS1"
   ]
  },
  {
   "cell_type": "markdown",
   "id": "eff91362-15ef-4c6f-acd6-1fa3dc494588",
   "metadata": {},
   "source": [
    "The  Probability Density Function(PDF) is a fundamental concept in probability theory and statistics. It's used to describe the  likelihood of a continuous random variable taking in a specific value within a given range. In other words, the PDF provides a way to quantify the probability distribution of a contiouns random variable.\n",
    "\n",
    "For a continuous random variable X, the PDF is denoted as f(x) and satisfies the following properties:\n",
    "\n",
    "1.Non-negativity: The PDF is always non-negative, meaning that f(x) ≥ 0 for all x in the domain of X.\n",
    "\n",
    "\n",
    "2.Integration over the entire domain: The total area under the PDF curve over the entire range of possible values for X is equal to 1. Mathematically, ∫f(x) dx = 1, where the integral is taken over the entire range of X.\n",
    "\n",
    "\n",
    "The probability of the random variable X falling within a specific interval [a, b] is given by the integral of the PDF over that interval:\n",
    "\n",
    "P(a ≤ X ≤ b) = ∫[a,b] f(x) dx\n",
    "\n",
    "The PDF provides information about the likelihood of observing different values of the continuous random variable. Higher values of the PDF indicate higher probabilities of the variable taking those values.\n",
    "\n",
    "It's important to note that for discrete random variables, the analogous concept is the Probability Mass Function (PMF), which assigns probabilities to specific discrete values rather than continuous ranges.\n",
    "\n",
    "Common probability distributions, such as the normal distribution, exponential distribution, and uniform distribution, each have their own specific PDFs that describe how the probabilities are distributed across their respective ranges."
   ]
  },
  {
   "cell_type": "markdown",
   "id": "514a861a-cee4-4ff0-bc48-051b25fe6a08",
   "metadata": {},
   "source": [
    "#Ans.2"
   ]
  },
  {
   "cell_type": "markdown",
   "id": "0b997341-8fec-4356-8e2d-0fdad76568dc",
   "metadata": {},
   "source": [
    "There are several types of probability distributions in statistics that describe the patterns of probabilities associated with different values of a random variable. These distributions are categorized into two main types: discrete probability distributions and continuous probability distributions. Here are some common examples of both:\n",
    "\n",
    "Discrete Probability Distributions:\n",
    "\n",
    "1.Bernoulli Distribution: Models the probability of a binary outcome (success/failure) with a single trial.\n",
    "\n",
    "\n",
    "2.Binomial Distribution: Represents the number of successes in a fixed number of independent Bernoulli trials.\n",
    "\n",
    "3.Poisson Distribution: Describes the number of events occurring in a fixed interval of time or space, when events are rare and independent.\n",
    "\n",
    "4.Geometric Distribution: Models the number of trials needed to achieve the first success in a sequence of Bernoulli trials.\n",
    "\n",
    "\n",
    "5.Hypergeometric Distribution: Used for sampling without replacement, often in scenarios like drawing items from a finite population.\n",
    "\n",
    "\n",
    "6.Negative Binomial Distribution: Represents the number of trials required to achieve a fixed number of successes in a sequence of independent Bernoulli trials.\n",
    "\n",
    "\n",
    "Continuous Probability Distributions:\n",
    "\n",
    "1.Normal (Gaussian) Distribution: One of the most important distributions, characterized by its bell-shaped curve, it's widely used due to the Central Limit Theorem.\n",
    "\n",
    "\n",
    "2.Uniform Distribution: Equally likely outcomes within a specified range, forming a rectangular distribution.\n",
    "\n",
    "\n",
    "3.Exponential Distribution: Models the time between events in a Poisson process, often used for modeling the time between rare events.\n",
    "\n",
    "\n",
    "4.Gamma Distribution: Generalizes the exponential distribution and includes various shapes.\n",
    "\n",
    "\n",
    "5.Beta Distribution: Used to model probabilities between 0 and 1, often for modeling proportions or probabilities.\n",
    "\n",
    "\n",
    "6.Log-Normal Distribution: Results from the exponential of a normally distributed random variable, often used for modeling variables that have a skewed distribution on the original scale.\n",
    "\n",
    "\n",
    "7.Chi-Square Distribution: Arises from the sum of squared standard normal random variables and is commonly used in hypothesis testing.\n",
    "\n",
    "\n",
    "8.Student's t-Distribution: Used in hypothesis testing when sample sizes are small and the population standard deviation is unknown.\n",
    "\n",
    "\n",
    "These are just a selection of the many probability distributions that exist. Each distribution has its own characteristics, properties, and applications. The choice of distribution depends on the nature of the data and the specific problem being addressed in statistics, probability theory, and various fields of science and engineering."
   ]
  },
  {
   "cell_type": "markdown",
   "id": "422ef1cc-76ff-4649-9bb8-f44b726656b0",
   "metadata": {},
   "source": [
    "#Ans3."
   ]
  },
  {
   "cell_type": "code",
   "execution_count": 1,
   "id": "c46135c4-c506-4e03-b8a2-384749e7a3e6",
   "metadata": {},
   "outputs": [
    {
     "name": "stdout",
     "output_type": "stream",
     "text": [
      "PDF at x = 0.5: 0.3520653267642995\n"
     ]
    }
   ],
   "source": [
    "import math\n",
    "\n",
    "def normal_pdf(x, mean, std_dev):\n",
    "    \"\"\"\n",
    "    Calculate the probability density function of a normal distribution at a given point.\n",
    "    \n",
    "    Args:\n",
    "        x (float): The point at which to calculate the PDF.\n",
    "        mean (float): Mean of the normal distribution.\n",
    "        std_dev (float): Standard deviation of the normal distribution.\n",
    "        \n",
    "    Returns:\n",
    "        float: The value of the PDF at the given point.\n",
    "    \"\"\"\n",
    "    exponent = -0.5 * ((x - mean) / std_dev) ** 2\n",
    "    coefficient = 1 / (std_dev * math.sqrt(2 * math.pi))\n",
    "    pdf_value = coefficient * math.exp(exponent)\n",
    "    return pdf_value\n",
    "\n",
    "# Example usage\n",
    "mean = 0\n",
    "std_dev = 1\n",
    "x_value = 0.5\n",
    "pdf_at_x = normal_pdf(x_value, mean, std_dev)\n",
    "print(f\"PDF at x = {x_value}: {pdf_at_x}\")\n"
   ]
  },
  {
   "cell_type": "markdown",
   "id": "1d0824ec-c014-4954-8fbb-cd3a7b727a3c",
   "metadata": {},
   "source": [
    "#Ans4."
   ]
  },
  {
   "cell_type": "markdown",
   "id": "02936b66-4abe-4619-895c-32c64c74d1fb",
   "metadata": {},
   "source": [
    "The Binomial distribution is a discrete probability distribution that models the number of successes in a fixed number of independent Bernoulli trials, where each trial has two possible outcomes: success or failure. The distribution is characterized by two parameters: the number of trials n and the probability of success p. The properties of the Binomial distribution include:\n",
    "\n",
    "1.Fixed Number of Trials: The distribution describes a fixed number (n) of independent and identical trials.\n",
    "\n",
    "2.Independent Trials: The trials are assumed to be independent, meaning the outcome of one trial does not affect the outcome of the others.\n",
    "\n",
    "3.Two Possible Outcomes: Each trial results in one of two outcomes: success or failure.\n",
    "\n",
    "4.Constant Probability of Success: The probability p of success remains constant across all trials.\n",
    "\n",
    "5.Discrete Distribution: The Binomial distribution is a discrete distribution, as it deals with a count of successes, which can only take on whole number values.\n",
    "\n",
    "6.Probability Mass Function (PMF): The probability mass function of the Binomial distribution gives the probability of observing k successes in n trials:\n",
    "\n",
    "P(X=k)=(kn\n",
    "​\n",
    " )p \n",
    "k\n",
    " (1−p) \n",
    "n−k\n",
    "Where \n",
    "(\n",
    "�\n",
    "�\n",
    ")\n",
    "( \n",
    "k\n",
    "n\n",
    "​\n",
    " ) is the binomial coefficient, given by \n",
    "n!/\n",
    "k!(n−k)!\n",
    ".\n",
    "\n",
    "Two examples of events where the Binomial distribution can be applied are:\n",
    "\n",
    "1.Coin Flips: Suppose you flip a fair coin 10 times and want to find the probability of getting exactly 5 heads. Each flip of the coin is an independent trial, and the outcome is either a success (heads) or failure (tails). The Binomial distribution can model this scenario.\n",
    "\n",
    "2.Quality Control: In a manufacturing process, you're inspecting a batch of 100 products for defects. Each product is either defective (success) or non-defective (failure). The probability of a product being defective is \n",
    "0.05\n",
    "0.05. You can use the Binomial distribution to calculate the probability of finding exactly 3 defective products in the batch."
   ]
  },
  {
   "cell_type": "markdown",
   "id": "ac23d7d9-9788-4dad-a757-3bb4055c07d6",
   "metadata": {},
   "source": [
    "#Ans5."
   ]
  },
  {
   "cell_type": "code",
   "execution_count": 2,
   "id": "7891f6c3-3e76-40f4-b5fc-f5f5fcc41bdc",
   "metadata": {},
   "outputs": [],
   "source": [
    "import numpy as np\n",
    "import matplotlib.pyplot as plt"
   ]
  },
  {
   "cell_type": "code",
   "execution_count": 6,
   "id": "c88b3fdf-25f8-432a-986a-f040f4fe916c",
   "metadata": {},
   "outputs": [
    {
     "data": {
      "image/png": "[encoded data removed]",
      "text/plain": [
       "<Figure size 640x480 with 1 Axes>"
      ]
     },
     "metadata": {},
     "output_type": "display_data"
    }
   ],
   "source": [
    "sample_size = 1000\n",
    "probability_of_success= 0.4\n",
    "number_of_trials =1\n",
    "\n",
    "random_sample = np.random.binomial(number_of_trials, probability_of_success, sample_size)\n",
    "\n",
    "plt.hist(random_sample, bins=np.arange(number_of_trials + 2) - 0.5, rwidth = 0.8, align='mid', density = True)\n",
    "plt.xlabel('Number of Successes')\n",
    "plt.ylabel('Probability')\n",
    "plt.title('Histogram of Binomial Distribution')\n",
    "plt.xticks(np.arange(number_of_trials + 1))\n",
    "plt.grid(True)\n",
    "plt.show()"
   ]
  },
  {
   "cell_type": "markdown",
   "id": "a7ac4513-4c7d-4d0d-8ab0-b7d192225afe",
   "metadata": {},
   "source": [
    "#Ans6"
   ]
  },
  {
   "cell_type": "code",
   "execution_count": 7,
   "id": "f5ab6a1b-66ce-406f-b306-a1b56ef2c90c",
   "metadata": {},
   "outputs": [
    {
     "name": "stdout",
     "output_type": "stream",
     "text": [
      "CDF at k = 2: 0.42319008112684353\n"
     ]
    }
   ],
   "source": [
    "import math\n",
    "\n",
    "def poisson_cdf(k, mean):\n",
    "    \"\"\"\n",
    "    Calculate the cumulative distribution function of a Poisson distribution at a given point.\n",
    "    \n",
    "    Args:\n",
    "        k (int): The point at which to calculate the CDF.\n",
    "        mean (float): Mean of the Poisson distribution.\n",
    "        \n",
    "    Returns:\n",
    "        float: The value of the CDF at the given point.\n",
    "    \"\"\"\n",
    "    cdf_value = 0\n",
    "    for i in range(k + 1):\n",
    "        cdf_value += (math.exp(-mean) * (mean ** i)) / math.factorial(i)\n",
    "    return cdf_value\n",
    "\n",
    "# Example usage\n",
    "mean = 3\n",
    "k_value = 2\n",
    "cdf_at_k = poisson_cdf(k_value, mean)\n",
    "print(f\"CDF at k = {k_value}: {cdf_at_k}\")\n"
   ]
  },
  {
   "cell_type": "markdown",
   "id": "390e97da-d3a8-4bb9-80e8-05b799a8e5e7",
   "metadata": {},
   "source": [
    "#Ans7"
   ]
  },
  {
   "cell_type": "markdown",
   "id": "c5416698-1cfc-43d1-bfc4-c160c139ec19",
   "metadata": {},
   "source": [
    "The Binomial distribution and the Poisson distribution are both discrete probability distributions, but they are used to model different types of scenarios and have distinct characteristics. Here are the key differences between the Binomial and Poisson distributions:\n",
    "\n",
    "1.Nature of Events:\n",
    "\n",
    "Binomial Distribution: The Binomial distribution is used to model the number of successes in a fixed number of independent trials, where each trial has two possible outcomes (success or failure). It is appropriate when events are repeated a fixed number of times and the probability of success remains constant across trials.\n",
    "\n",
    "Poisson Distribution: The Poisson distribution is used to model the number of rare events that occur in a fixed interval of time or space. It is appropriate when events are rare and independent, and the average rate of occurrence is known.\n",
    "\n",
    "2.Number of Trials or Events:\n",
    "\n",
    "Binomial Distribution: The Binomial distribution involves a fixed number of trials or events (n).\n",
    "\n",
    "Poisson Distribution: The Poisson distribution does not involve a fixed number of trials. It models the occurrence of events in continuous time or space.\n",
    "\n",
    "3.Number of Possible Outcomes:\n",
    "\n",
    "Binomial Distribution: Each trial in the Binomial distribution has two possible outcomes (success or failure).\n",
    "\n",
    "Poisson Distribution: The Poisson distribution deals with counts of events, so the number of possible outcomes is infinite.\n",
    "\n",
    "4.Parameters:\n",
    "\n",
    "Binomial Distribution: The Binomial distribution is characterized by two parameters: the number of trials (\n",
    "�\n",
    "n) and the probability of success (\n",
    "�\n",
    "p).\n",
    "\n",
    "5.Poisson Distribution: The Poisson distribution is characterized by a single parameter: the average rate of event occurrence (\n",
    "�\n",
    "λ).\n",
    "\n",
    "Assumptions:\n",
    "\n",
    "Binomial Distribution: Assumes that events are independent, the probability of success remains constant across trials, and there are a fixed number of trials.\n",
    "\n",
    "Poisson Distribution: Assumes that events are rare and independent, and that the average rate of occurrence is constant.\n",
    "\n",
    "6.When to Use:\n",
    "\n",
    "Binomial Distribution: Use the Binomial distribution when you have a fixed number of trials and each trial has two possible outcomes, with a constant probability of success.\n",
    "\n",
    "Poisson Distribution: Use the Poisson distribution when you are dealing with rare events that occur randomly in time or space, and you're interested in the number of events occurring in a fixed interval."
   ]
  },
  {
   "cell_type": "markdown",
   "id": "37c5c56a-e326-4ae4-b2a7-9c0c84d25937",
   "metadata": {},
   "source": [
    "#ANS 8"
   ]
  },
  {
   "cell_type": "code",
   "execution_count": 9,
   "id": "d5a3323f-aebe-4ca7-b6b6-c97d53853266",
   "metadata": {},
   "outputs": [
    {
     "name": "stdout",
     "output_type": "stream",
     "text": [
      "Sample Mean: 4.97\n",
      "Sample Variance: 5.2491\n"
     ]
    }
   ],
   "source": [
    "import numpy as np\n",
    "\n",
    "# Parameters\n",
    "sample_size = 1000\n",
    "mean = 5\n",
    "\n",
    "# Generate random sample from Poisson distribution\n",
    "random_sample = np.random.poisson(mean, sample_size)\n",
    "\n",
    "# Calculate sample mean and variance\n",
    "sample_mean = np.mean(random_sample)\n",
    "sample_variance = np.var(random_sample)\n",
    "\n",
    "print(\"Sample Mean:\", sample_mean)\n",
    "print(\"Sample Variance:\", sample_variance)\n"
   ]
  },
  {
   "cell_type": "markdown",
   "id": "e9bf6456-d646-4e99-b6b6-acee626159d8",
   "metadata": {},
   "source": [
    "#Ans9."
   ]
  },
  {
   "cell_type": "markdown",
   "id": "713ddc5e-461c-4481-bb3a-ee7bc24d6c4f",
   "metadata": {},
   "source": [
    "The mean and variance are related in both the Binomial distribution and the Poisson distribution, but the nature of the relationship is different due to the distinct characteristics of these distributions.\n",
    "\n",
    "Binomial Distribution:\n",
    "For a Binomial distribution with parameters \n",
    "�\n",
    "n (number of trials) and \n",
    "�\n",
    "p (probability of success), the mean (\n",
    "�\n",
    "μ) and variance (\n",
    "�\n",
    "2\n",
    "σ \n",
    "2\n",
    " ) are related as follows:\n",
    "\n",
    "Mean: \n",
    "�\n",
    "=\n",
    "�\n",
    "�\n",
    "μ=np\n",
    "Variance: \n",
    "�\n",
    "2\n",
    "=\n",
    "�\n",
    "�\n",
    "(\n",
    "1\n",
    "−\n",
    "�\n",
    ")\n",
    "σ \n",
    "2\n",
    " =np(1−p)\n",
    "\n",
    "Here, the variance is influenced by both the number of trials (\n",
    "�\n",
    "n) and the probability of success (\n",
    "�\n",
    "p). The more trials there are and the further \n",
    "�\n",
    "p is from 0.5 (equally likely success and failure), the larger the variance becomes. When \n",
    "�\n",
    "=\n",
    "0.5\n",
    "p=0.5, the variance is maximized.\n",
    "\n",
    "Poisson Distribution:\n",
    "For a Poisson distribution with parameter \n",
    "�\n",
    "λ (average rate of event occurrence), the mean (\n",
    "�\n",
    "μ) and variance (\n",
    "�\n",
    "2\n",
    "σ \n",
    "2\n",
    " ) are related as follows:\n",
    "\n",
    "Mean: \n",
    "�\n",
    "=\n",
    "�\n",
    "μ=λ\n",
    "Variance: \n",
    "�\n",
    "2\n",
    "=\n",
    "�\n",
    "σ \n",
    "2\n",
    " =λ\n",
    "\n",
    "In the Poisson distribution, the variance is equal to the mean. This relationship implies that the variability in the number of events is directly proportional to the average rate of event occurrence. As \n",
    "�\n",
    "λ increases, both the mean and the variance increase proportionally.\n",
    "\n",
    "In summary, the relationship between mean and variance in the Binomial distribution involves the probability of success and is influenced by both \n",
    "�\n",
    "n and \n",
    "�\n",
    "p, while in the Poisson distribution, the mean and variance are equal and directly proportional to the average rate of event occurrence (\n",
    "�\n",
    "λ)."
   ]
  },
  {
   "cell_type": "markdown",
   "id": "d448a682-f7d1-4492-8ffa-488c9365013c",
   "metadata": {},
   "source": [
    "#Ans10."
   ]
  },
  {
   "cell_type": "markdown",
   "id": "e4df1fee-38e2-4401-ac0f-90dcfb963e45",
   "metadata": {},
   "source": [
    "In a normal distribution, also known as a Gaussian distribution, the least frequent data appears in the tails of the distribution, which are the regions farther away from the mean. The normal distribution is symmetric around its mean, and its shape resembles a bell curve. The tails of the distribution extend indefinitely in both directions along the x-axis.\n",
    "\n",
    "Here's what this means in more detail:\n",
    "\n",
    "1.Central Tendency: The mean, median, and mode of a normal distribution are all located at the same point, which is the center of the distribution. This point corresponds to the highest point on the curve (the peak of the bell curve).\n",
    "\n",
    "2.Least Frequent Data: As you move away from the mean in either direction along the x-axis, the frequency of data decreases. The data points in the tails of the distribution are less frequent compared to those near the mean. The tails represent the extreme values.\n",
    "\n",
    "3.Symmetry: The normal distribution is symmetric, meaning that the left and right sides of the mean are mirror images of each other. This symmetry is a fundamental property of the normal distribution.\n",
    "\n",
    "4.Standard Deviation: The spread or dispersion of the data is controlled by the standard deviation. Larger standard deviations result in wider distributions, and smaller standard deviations result in narrower distributions."
   ]
  },
  {
   "cell_type": "code",
   "execution_count": null,
   "id": "e9004356-aeae-461e-8e6d-c36fb1dfe589",
   "metadata": {},
   "outputs": [],
   "source": []
  }
 ],
 "metadata": {
  "kernelspec": {
   "display_name": "Python 3 (ipykernel)",
   "language": "python",
   "name": "python3"
  },
  "language_info": {
   "codemirror_mode": {
    "name": "ipython",
    "version": 3
   },
   "file_extension": ".py",
   "mimetype": "text/x-python",
   "name": "python",
   "nbconvert_exporter": "python",
   "pygments_lexer": "ipython3",
   "version": "3.10.8"
  }
 },
 "nbformat": 4,
 "nbformat_minor": 5
}
